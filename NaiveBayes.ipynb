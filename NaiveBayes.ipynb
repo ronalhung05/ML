{
 "cells": [
  {
   "metadata": {
    "ExecuteTime": {
     "end_time": "2025-01-18T03:43:01.761214Z",
     "start_time": "2025-01-18T03:43:01.515961Z"
    }
   },
   "cell_type": "code",
   "source": "import numpy as np",
   "id": "3d55019632b871ce",
   "outputs": [],
   "execution_count": 1
  },
  {
   "metadata": {},
   "cell_type": "markdown",
   "source": [
    "# Naive Bayes Classifiers\n",
    "\n",
    "worse than LinearSVC and Logistic Regression\n",
    "\n",
    "GaussianNB can be applied to any continuous data, while BernoulliNB assumes binary data and MultinomialNB assumes count data (that is, that each feature represents an integer count of something, like how often a word appears in a sentence)."
   ],
   "id": "4cf731395a2cd981"
  },
  {
   "metadata": {},
   "cell_type": "markdown",
   "source": [
    "## BernoulliNB \n",
    "\n",
    "counts how often every feature of each class is not zero"
   ],
   "id": "d46d35760965b2ce"
  },
  {
   "metadata": {
    "ExecuteTime": {
     "end_time": "2025-01-18T03:43:03.328611Z",
     "start_time": "2025-01-18T03:43:03.325210Z"
    }
   },
   "cell_type": "code",
   "source": [
    "X = np.array([[0, 1, 0, 1],\n",
    "              [1, 0, 1, 1],\n",
    "              [0, 0, 0, 1],\n",
    "              [1, 0, 1, 0]])\n",
    "y = np.array([0, 1, 0, 1])\n",
    "# 4 datapoints with label 0 or 1 class "
   ],
   "id": "f7bf6f02f5924951",
   "outputs": [],
   "execution_count": 2
  },
  {
   "metadata": {
    "ExecuteTime": {
     "end_time": "2025-01-18T03:46:00.929129Z",
     "start_time": "2025-01-18T03:46:00.923336Z"
    }
   },
   "cell_type": "code",
   "source": [
    "counts = {}\n",
    "for label in np.unique(y):\n",
    "    # iterate over each class\n",
    "    # count (sum) entries of 1 per feature\n",
    "    counts[label] = X[y == label].sum(axis=0)\n",
    "print(\"Feature counts:\\n\", counts)"
   ],
   "id": "c9ba6a9e764ec880",
   "outputs": [
    {
     "name": "stdout",
     "output_type": "stream",
     "text": [
      "Feature counts:\n",
      " {0: array([0, 1, 0, 2]), 1: array([2, 0, 2, 1])}\n"
     ]
    }
   ],
   "execution_count": 3
  },
  {
   "metadata": {},
   "cell_type": "markdown",
   "source": [
    "## MultinomialNB\n",
    "\n",
    "the average value of each feature for each class"
   ],
   "id": "7580b68c82704c"
  },
  {
   "metadata": {},
   "cell_type": "markdown",
   "source": [
    "## GaussianNB\n",
    "\n",
    "stores the average value as well as the standard deviation of each feature for each class"
   ],
   "id": "ec37cf7c21d2e9c2"
  },
  {
   "metadata": {},
   "cell_type": "markdown",
   "source": [
    "MultinomialNB and BernoulliNB have a single parameter, alpha, which controls model complexity. The way alpha works is that the algorithm adds to the data alpha many virtual data points that have positive values for all the features. This results in a “smoothing” of the statistics. A large alpha means more smoothing, resulting in less complex models. The algorithm’s performance is relatively robust to the setting of alpha, meaning that setting alpha is not critical for good performance. However, tuning it usually improves accuracy somewhat\n",
    "\n",
    "GaussianNB is mostly used on very high-dimensional data, while the other two variants of naive Bayes are widely used for sparse count data such as text. MultinomialNB usually performs better than BernoulliNB, particularly on datasets with a relatively large number of nonzero features (i.e., large documents).\n",
    "\n",
    "The naive Bayes models share many of the strengths and weaknesses of the linear models. They are very fast to train and to predict, and the training procedure is easy to understand. The models work very well with high-dimensional sparse data and are relatively robust to the parameters. Naive Bayes models are great baseline models and are often used on very large datasets, where training even a linear model might take too long."
   ],
   "id": "ca0402755e6ce717"
  },
  {
   "metadata": {},
   "cell_type": "code",
   "outputs": [],
   "execution_count": null,
   "source": "",
   "id": "a407de40b8370dbc"
  }
 ],
 "metadata": {
  "kernelspec": {
   "display_name": "Python 3",
   "language": "python",
   "name": "python3"
  },
  "language_info": {
   "codemirror_mode": {
    "name": "ipython",
    "version": 2
   },
   "file_extension": ".py",
   "mimetype": "text/x-python",
   "name": "python",
   "nbconvert_exporter": "python",
   "pygments_lexer": "ipython2",
   "version": "2.7.6"
  }
 },
 "nbformat": 4,
 "nbformat_minor": 5
}
